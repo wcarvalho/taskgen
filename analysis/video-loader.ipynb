{
 "cells": [
  {
   "cell_type": "code",
   "execution_count": 2,
   "id": "excessive-universe",
   "metadata": {},
   "outputs": [],
   "source": [
    "import sys\n",
    "import os\n",
    "sys.path.append(\"/shared/home/wcarvalh/projects/sfgen/\") "
   ]
  },
  {
   "cell_type": "code",
   "execution_count": 3,
   "id": "arctic-infrastructure",
   "metadata": {},
   "outputs": [],
   "source": [
    "from IPython.display import display, HTML, Video\n",
    "from sfgen.tools.fileloader import FileLoader\n",
    "from scripts.babyai_video_maker import main as make_video\n",
    "\n",
    "%load_ext autoreload\n",
    "%autoreload 2"
   ]
  },
  {
   "cell_type": "code",
   "execution_count": 4,
   "id": "removed-comfort",
   "metadata": {},
   "outputs": [
    {
     "data": {
      "application/vnd.jupyter.widget-view+json": {
       "model_id": "4c87108d51f0411db3c22259400fbab3",
       "version_major": 2,
       "version_minor": 0
      },
      "text/plain": [
       "interactive(children=(Dropdown(description='date:', options=('2021.01.23', '2021.01.24', '2021.01.27'), value=…"
      ]
     },
     "metadata": {},
     "output_type": "display_data"
    }
   ],
   "source": [
    "path_loader = FileLoader(\n",
    "    search_path=[\n",
    "        dict(name=\"date\"),\n",
    "        dict(name=\"time\"),\n",
    "        dict(name=\"experiment\"),\n",
    "        dict(name=\"setting\"),\n",
    "        dict(name=\"run\"),\n",
    "    ], \n",
    "    base_path=\"../data/local\",\n",
    ")"
   ]
  },
  {
   "cell_type": "code",
   "execution_count": 5,
   "id": "interior-seminar",
   "metadata": {},
   "outputs": [
    {
     "name": "stdout",
     "output_type": "stream",
     "text": [
      "=========================\n",
      "Found params in path\n",
      "=========================\n",
      "Successfully loaded ../models/babyai/vocab.json\n",
      "2021-01-28 20:55:17.374792  | Runner  master CPU affinity: [0, 1, 2, 3, 4, 5, 6, 7, 8, 9, 10, 11, 12, 13, 14, 15, 16, 17, 18, 19, 20, 21, 22, 23, 24, 25, 26, 27, 28, 29, 30, 31, 32, 33, 34, 35, 36, 37, 38, 39].\n",
      "2021-01-28 20:55:17.375911  | Runner  master Torch threads: 20.\n",
      "\u001b[32musing seed 5094\u001b[0m\n",
      "2021-01-28 20:55:17.558621  | Sampler decorrelating envs, max steps: 100\n",
      "2021-01-28 20:55:17.579711  | Serial Sampler initialized.\n",
      "2021-01-28 20:55:17.580313  | Running 125000 iterations of minibatch RL.\n",
      "2021-01-28 20:55:17.584140  | Sampler decorrelating envs, max steps: 0\n",
      "Successes: 0\n",
      "Failures: 3\n",
      "../data/local/2021.01.23/22.15.14/lrdecay_view_weightdecay/agent_view_size=3,config=ppo_babyai,learning_rate=5e-05,level=PutNextLocal,linear_lr_schedule=False,n_steps=50000000.0,weight_decay=0/run_0/failure0.mp4\n",
      "../data/local/2021.01.23/22.15.14/lrdecay_view_weightdecay/agent_view_size=3,config=ppo_babyai,learning_rate=5e-05,level=PutNextLocal,linear_lr_schedule=False,n_steps=50000000.0,weight_decay=0/run_0/failure1.mp4\n",
      "../data/local/2021.01.23/22.15.14/lrdecay_view_weightdecay/agent_view_size=3,config=ppo_babyai,learning_rate=5e-05,level=PutNextLocal,linear_lr_schedule=False,n_steps=50000000.0,weight_decay=0/run_0/failure2.mp4\n"
     ]
    }
   ],
   "source": [
    "make_video(path_loader.fullpath,\n",
    "           num_success=5,\n",
    "           num_failure=5,\n",
    "           trajectories=1,\n",
    "           batch_T=400,\n",
    "           xlim=5,\n",
    "           title_size=16,\n",
    "           vocab_path=\"../models/babyai/vocab.json\",\n",
    "          )"
   ]
  },
  {
   "cell_type": "code",
   "execution_count": 29,
   "id": "parallel-jefferson",
   "metadata": {},
   "outputs": [
    {
     "data": {
      "application/vnd.jupyter.widget-view+json": {
       "model_id": "17aff3b856ad4848ac034473be6d72ce",
       "version_major": 2,
       "version_minor": 0
      },
      "text/plain": [
       "interactive(children=(Dropdown(description='video:', options=('failure0.mp4', 'failure1.mp4', 'failure2.mp4'),…"
      ]
     },
     "metadata": {},
     "output_type": "display_data"
    }
   ],
   "source": [
    "video_loader = FileLoader(\n",
    "    search_path=[\n",
    "        dict(name=\"video\", regex=\"*.mp4\"),\n",
    "    ], \n",
    "    base_path=path_loader.fullpath,\n",
    ")"
   ]
  },
  {
   "cell_type": "code",
   "execution_count": 30,
   "id": "designing-investment",
   "metadata": {},
   "outputs": [
    {
     "data": {
      "text/html": [
       "<video src=\"../data/local/2021.01.24/16.57.00/lrdecay_view_weightdecay2/agent_view_size=7,config=ppo_babyai,learning_rate=5e-05,level=PutNextLocal,linear_lr_schedule=False,n_steps=100000000.0,weight_decay=0/run_0/failure0.mp4\" controls  >\n",
       "      Your browser does not support the <code>video</code> element.\n",
       "    </video>"
      ],
      "text/plain": [
       "<IPython.core.display.Video object>"
      ]
     },
     "execution_count": 30,
     "metadata": {},
     "output_type": "execute_result"
    }
   ],
   "source": [
    "Video(video_loader.fullpath)"
   ]
  },
  {
   "cell_type": "code",
   "execution_count": null,
   "id": "universal-digest",
   "metadata": {},
   "outputs": [],
   "source": []
  }
 ],
 "metadata": {
  "kernelspec": {
   "display_name": "Python 3",
   "language": "python",
   "name": "python3"
  },
  "language_info": {
   "codemirror_mode": {
    "name": "ipython",
    "version": 3
   },
   "file_extension": ".py",
   "mimetype": "text/x-python",
   "name": "python",
   "nbconvert_exporter": "python",
   "pygments_lexer": "ipython3",
   "version": "3.7.9"
  }
 },
 "nbformat": 4,
 "nbformat_minor": 5
}
