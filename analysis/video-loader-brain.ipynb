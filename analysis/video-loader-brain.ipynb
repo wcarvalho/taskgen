{
 "cells": [
  {
   "cell_type": "code",
   "execution_count": 1,
   "id": "existing-manufacturer",
   "metadata": {},
   "outputs": [],
   "source": [
    "import sys\n",
    "import os\n",
    "sys.path.append(\"/mnt/brain5/scratch/wcarvalh/projects/sfgen/\") # "
   ]
  },
  {
   "cell_type": "code",
   "execution_count": 2,
   "id": "organizational-violation",
   "metadata": {},
   "outputs": [
    {
     "name": "stdout",
     "output_type": "stream",
     "text": [
      "Warning: `wandb` is not available\n"
     ]
    }
   ],
   "source": [
    "from IPython.display import display, HTML, Video\n",
    "from sfgen.tools.fileloader import FileLoader\n",
    "from scripts.babyai_video_maker import main as make_video\n",
    "\n",
    "%load_ext autoreload\n",
    "%autoreload 2"
   ]
  },
  {
   "cell_type": "code",
   "execution_count": 3,
   "id": "independent-astrology",
   "metadata": {},
   "outputs": [
    {
     "data": {
      "application/vnd.jupyter.widget-view+json": {
       "model_id": "43807e23333d462681981b0a2bd31f5b",
       "version_major": 2,
       "version_minor": 0
      },
      "text/plain": [
       "interactive(children=(Dropdown(description='date:', options=('2021.01.30', '2021.02.01', '2021.02.02', '2021.0…"
      ]
     },
     "metadata": {},
     "output_type": "display_data"
    }
   ],
   "source": [
    "path_loader = FileLoader(\n",
    "    search_path=[\n",
    "        dict(name=\"date\"),\n",
    "        dict(name=\"time\"),\n",
    "        dict(name=\"experiment\"),\n",
    "        dict(name=\"setting\"),\n",
    "        dict(name=\"run\"),\n",
    "    ], \n",
    "    base_path=\"../data/local\",\n",
    ")"
   ]
  },
  {
   "cell_type": "code",
   "execution_count": 17,
   "id": "known-image",
   "metadata": {},
   "outputs": [
    {
     "name": "stdout",
     "output_type": "stream",
     "text": [
      "=========================\n",
      "Found params in path ../data/local/2021.02.14/null/zeroshot_3/aux=none,default_size=512,num_dists=6/run_0/params.pkl\n",
      "=========================\n",
      "Successfully loaded ../models/babyai_kitchen/vocab.json\n",
      "Successfully loaded ../models/babyai_kitchen/tasks.json\n",
      "2021-02-15 19:43:16.108373  | Runner  master CPU affinity: [0, 1, 2, 3, 4, 5, 6, 7, 8, 9, 10, 11, 12, 13, 14, 15, 16, 17, 18, 19, 20, 21, 22, 23].\n",
      "2021-02-15 19:43:16.109433  | Runner  master Torch threads: 12.\n",
      "\u001b[32musing seed 7180\u001b[0m\n",
      "2021-02-15 19:43:20.008364  | loading model state dict\n",
      "2021-02-15 19:43:20.145777  | Sampler decorrelating envs, max steps: 100\n",
      "2021-02-15 19:43:20.238572  | Agent at itr 0, sample eps 0.1 (min itr: 0, max_itr: 1)\n",
      "2021-02-15 19:43:20.239255  | Serial Sampler initialized.\n",
      "2021-02-15 19:43:20.240816  | Running 50000 iterations of minibatch RL.\n",
      "2021-02-15 19:43:20.243432  | From sampler batch size 400, training batch size 1280, and replay ratio 4, computed 1 updates per iteration.\n",
      "2021-02-15 19:43:20.244077  | Agent setting min/max epsilon itrs: 250, 25000\n",
      "2021-02-15 19:43:20.244845  | WARNING: ignoring replay buffer class: <class 'rlpyt.replays.sequence.prioritized.PrioritizedSequenceReplayBuffer'> -- instead using <class 'sfgen.general.trajectory_replay.TrajectoryPrioritizedReplay'>\n",
      "2021-02-15 19:43:20.297335  | Agent at itr 0, eval eps 1.0\n"
     ]
    },
    {
     "name": "stderr",
     "output_type": "stream",
     "text": [
      "/mnt/brain5/scratch/wcarvalh/projects/sfgen/_rlpyt/rlpyt/agents/dqn/epsilon_greedy.py:108: RuntimeWarning: divide by zero encountered in long_scalars\n",
      "  if itr % (itr_max // 10) == 0 or itr == itr_max:\n"
     ]
    },
    {
     "name": "stdout",
     "output_type": "stream",
     "text": [
      "2021-02-15 19:43:20.718592  | Sampler decorrelating envs, max steps: 0\n",
      "2021-02-15 19:43:20.719555  | Agent at itr 0, sample eps 0.1 (min itr: 250, max_itr: 25000)\n",
      "Successes: 1\n",
      "Failures: 3\n",
      "../data/local/2021.02.14/null/zeroshot_3/aux=none,default_size=512,num_dists=6/run_0/success_0.mp4\n",
      "../data/local/2021.02.14/null/zeroshot_3/aux=none,default_size=512,num_dists=6/run_0/failure0.mp4\n",
      "../data/local/2021.02.14/null/zeroshot_3/aux=none,default_size=512,num_dists=6/run_0/failure1.mp4\n",
      "../data/local/2021.02.14/null/zeroshot_3/aux=none,default_size=512,num_dists=6/run_0/failure2.mp4\n"
     ]
    }
   ],
   "source": [
    "make_video(path_loader.fullpath,\n",
    "           num_success=3,\n",
    "           num_failure=3,\n",
    "           trajectories=1,\n",
    "           batch_T=400,\n",
    "           xlim=5,\n",
    "           title_size=16,\n",
    "           rootdir=\"../\",\n",
    "          )"
   ]
  },
  {
   "cell_type": "code",
   "execution_count": 18,
   "id": "strategic-corner",
   "metadata": {},
   "outputs": [
    {
     "data": {
      "application/vnd.jupyter.widget-view+json": {
       "model_id": "54c79c3bcf4e4b8f945f9ca6bd644dd9",
       "version_major": 2,
       "version_minor": 0
      },
      "text/plain": [
       "interactive(children=(Dropdown(description='video:', options=('failure0.mp4', 'failure1.mp4', 'failure2.mp4', …"
      ]
     },
     "metadata": {},
     "output_type": "display_data"
    }
   ],
   "source": [
    "video_loader = FileLoader(\n",
    "    search_path=[\n",
    "        dict(name=\"video\", regex=\"*.mp4\"),\n",
    "    ], \n",
    "    base_path=path_loader.fullpath,\n",
    ")"
   ]
  },
  {
   "cell_type": "code",
   "execution_count": 25,
   "id": "danish-allah",
   "metadata": {},
   "outputs": [
    {
     "name": "stdout",
     "output_type": "stream",
     "text": [
      "../data/local/2021.02.14/null/zeroshot_3/aux=none,default_size=512,num_dists=6/run_0/success_0.mp4\n"
     ]
    },
    {
     "data": {
      "text/html": [
       "<video src=\"../data/local/2021.02.14/null/zeroshot_3/aux=none,default_size=512,num_dists=6/run_0/success_0.mp4\" controls  >\n",
       "      Your browser does not support the <code>video</code> element.\n",
       "    </video>"
      ],
      "text/plain": [
       "<IPython.core.display.Video object>"
      ]
     },
     "execution_count": 25,
     "metadata": {},
     "output_type": "execute_result"
    }
   ],
   "source": [
    "print(video_loader.fullpath)\n",
    "Video(video_loader.fullpath)"
   ]
  },
  {
   "cell_type": "code",
   "execution_count": 20,
   "id": "adopted-injection",
   "metadata": {},
   "outputs": [
    {
     "data": {
      "text/html": [
       "<video src=\"../data/local/2021.02.14/null/zeroshot_3/aux=none,default_size=512,num_dists=3/run_0/success_1.mp4\" controls  >\n",
       "      Your browser does not support the <code>video</code> element.\n",
       "    </video>"
      ],
      "text/plain": [
       "<IPython.core.display.Video object>"
      ]
     },
     "execution_count": 20,
     "metadata": {},
     "output_type": "execute_result"
    }
   ],
   "source": [
    "no_understand_toggle=\"../data/local/2021.02.14/null/zeroshot_3/aux=none,default_size=512,num_dists=3/run_0/success_1.mp4\"\n",
    "Video(no_understand_toggle)"
   ]
  },
  {
   "cell_type": "code",
   "execution_count": 22,
   "id": "sharp-vermont",
   "metadata": {},
   "outputs": [
    {
     "data": {
      "text/html": [
       "<video src=\"../data/local/2021.02.14/null/zeroshot_3/aux=none,default_size=512,num_dists=6/run_0/failure0.mp4\" controls  >\n",
       "      Your browser does not support the <code>video</code> element.\n",
       "    </video>"
      ],
      "text/plain": [
       "<IPython.core.display.Video object>"
      ]
     },
     "execution_count": 22,
     "metadata": {},
     "output_type": "execute_result"
    }
   ],
   "source": [
    "distractors_confused=\"../data/local/2021.02.14/null/zeroshot_3/aux=none,default_size=512,num_dists=6/run_0/failure0.mp4\"\n",
    "Video(distractors_confused)"
   ]
  },
  {
   "cell_type": "code",
   "execution_count": null,
   "id": "liberal-semiconductor",
   "metadata": {},
   "outputs": [],
   "source": []
  }
 ],
 "metadata": {
  "kernelspec": {
   "display_name": "Python 3",
   "language": "python",
   "name": "python3"
  },
  "language_info": {
   "codemirror_mode": {
    "name": "ipython",
    "version": 3
   },
   "file_extension": ".py",
   "mimetype": "text/x-python",
   "name": "python",
   "nbconvert_exporter": "python",
   "pygments_lexer": "ipython3",
   "version": "3.7.9"
  }
 },
 "nbformat": 4,
 "nbformat_minor": 5
}
