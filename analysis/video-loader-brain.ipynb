{
 "cells": [
  {
   "cell_type": "code",
   "execution_count": 1,
   "id": "increasing-greenhouse",
   "metadata": {},
   "outputs": [],
   "source": [
    "import sys\n",
    "import os\n",
    "sys.path.append(\"/mnt/brain5/scratch/wcarvalh/projects/sfgen/\") # "
   ]
  },
  {
   "cell_type": "code",
   "execution_count": 2,
   "id": "least-ability",
   "metadata": {},
   "outputs": [
    {
     "name": "stdout",
     "output_type": "stream",
     "text": [
      "Warning: `wandb` is not available\n"
     ]
    }
   ],
   "source": [
    "from IPython.display import display, HTML, Video\n",
    "from sfgen.tools.fileloader import FileLoader\n",
    "from scripts.babyai_video_maker import main as make_video\n",
    "\n",
    "%load_ext autoreload\n",
    "%autoreload 2"
   ]
  },
  {
   "cell_type": "code",
   "execution_count": 28,
   "id": "hybrid-idaho",
   "metadata": {},
   "outputs": [
    {
     "data": {
      "application/vnd.jupyter.widget-view+json": {
       "model_id": "28315e7ac858480a9a6cda94979cce15",
       "version_major": 2,
       "version_minor": 0
      },
      "text/plain": [
       "interactive(children=(Dropdown(description='date:', options=('2021.01.30', '2021.02.01', '2021.02.02', '2021.0…"
      ]
     },
     "metadata": {},
     "output_type": "display_data"
    }
   ],
   "source": [
    "path_loader = FileLoader(\n",
    "    search_path=[\n",
    "        dict(name=\"date\"),\n",
    "        dict(name=\"time\"),\n",
    "        dict(name=\"experiment\"),\n",
    "        dict(name=\"setting\"),\n",
    "        dict(name=\"run\"),\n",
    "    ], \n",
    "    base_path=\"../data/local\",\n",
    ")"
   ]
  },
  {
   "cell_type": "code",
   "execution_count": 30,
   "id": "external-agency",
   "metadata": {},
   "outputs": [
    {
     "name": "stdout",
     "output_type": "stream",
     "text": [
      "=========================\n",
      "Found params in path ../data/local/2021.02.11/null/zeroshot_3/aux=none,eps_steps=10000000.0,log_interval_steps=200000.0,mod_compression=linear,mod_function=sigmoid,model=sfgen,n_steps=50000000.0,num_dists=0,replay_size=500000,room_size=6,task_file=test_cool_slice_01.yaml/run_0/params.pkl\n",
      "=========================\n",
      "Successfully loaded ../models/babyai_kitchen/vocab.json\n",
      "Successfully loaded ../models/babyai_kitchen/tasks.json\n",
      "2021-02-12 00:02:00.631221  | Runner  master CPU affinity: [0, 1, 2, 3, 4, 5, 6, 7, 8, 9, 10, 11, 12, 13, 14, 15, 16, 17, 18, 19, 20, 21, 22, 23].\n",
      "2021-02-12 00:02:00.632201  | Runner  master Torch threads: 12.\n",
      "\u001b[32musing seed 4060\u001b[0m\n",
      "2021-02-12 00:02:03.858529  | loading model state dict\n",
      "2021-02-12 00:02:03.907671  | Sampler decorrelating envs, max steps: 100\n",
      "2021-02-12 00:02:03.931082  | Agent at itr 0, sample eps 0.1 (min itr: 0, max_itr: 1)\n",
      "2021-02-12 00:02:03.931700  | Serial Sampler initialized.\n",
      "2021-02-12 00:02:03.932375  | Running 125000 iterations of minibatch RL.\n",
      "2021-02-12 00:02:03.935118  | From sampler batch size 400, training batch size 1280, and replay ratio 4, computed 1 updates per iteration.\n",
      "2021-02-12 00:02:03.935738  | Agent setting min/max epsilon itrs: 250, 25000\n",
      "2021-02-12 00:02:03.936539  | WARNING: ignoring replay buffer class: <class 'rlpyt.replays.sequence.prioritized.PrioritizedSequenceReplayBuffer'> -- instead using <class 'sfgen.general.trajectory_replay.TrajectoryPrioritizedReplay'>\n",
      "2021-02-12 00:02:03.954256  | Agent at itr 0, eval eps 1.0\n",
      "2021-02-12 00:02:03.959540  | Sampler decorrelating envs, max steps: 0\n",
      "2021-02-12 00:02:03.960499  | Agent at itr 0, sample eps 0.1 (min itr: 250, max_itr: 25000)\n"
     ]
    },
    {
     "name": "stderr",
     "output_type": "stream",
     "text": [
      "/mnt/brain5/scratch/wcarvalh/projects/sfgen/_rlpyt/rlpyt/agents/dqn/epsilon_greedy.py:108: RuntimeWarning: divide by zero encountered in long_scalars\n",
      "  if itr % (itr_max // 10) == 0 or itr == itr_max:\n"
     ]
    },
    {
     "name": "stdout",
     "output_type": "stream",
     "text": [
      "Successes: 3\n",
      "Failures: 4\n",
      "../data/local/2021.02.11/null/zeroshot_3/aux=none,eps_steps=10000000.0,log_interval_steps=200000.0,mod_compression=linear,mod_function=sigmoid,model=sfgen,n_steps=50000000.0,num_dists=0,replay_size=500000,room_size=6,task_file=test_cool_slice_01.yaml/run_0/success_0.mp4\n",
      "../data/local/2021.02.11/null/zeroshot_3/aux=none,eps_steps=10000000.0,log_interval_steps=200000.0,mod_compression=linear,mod_function=sigmoid,model=sfgen,n_steps=50000000.0,num_dists=0,replay_size=500000,room_size=6,task_file=test_cool_slice_01.yaml/run_0/success_1.mp4\n",
      "../data/local/2021.02.11/null/zeroshot_3/aux=none,eps_steps=10000000.0,log_interval_steps=200000.0,mod_compression=linear,mod_function=sigmoid,model=sfgen,n_steps=50000000.0,num_dists=0,replay_size=500000,room_size=6,task_file=test_cool_slice_01.yaml/run_0/failure0.mp4\n",
      "../data/local/2021.02.11/null/zeroshot_3/aux=none,eps_steps=10000000.0,log_interval_steps=200000.0,mod_compression=linear,mod_function=sigmoid,model=sfgen,n_steps=50000000.0,num_dists=0,replay_size=500000,room_size=6,task_file=test_cool_slice_01.yaml/run_0/failure1.mp4\n"
     ]
    }
   ],
   "source": [
    "make_video(path_loader.fullpath,\n",
    "           num_success=2,\n",
    "           num_failure=2,\n",
    "           trajectories=1,\n",
    "           batch_T=400,\n",
    "           xlim=5,\n",
    "           title_size=16,\n",
    "           rootdir=\"../\",\n",
    "          )"
   ]
  },
  {
   "cell_type": "code",
   "execution_count": 31,
   "id": "short-algorithm",
   "metadata": {},
   "outputs": [
    {
     "data": {
      "application/vnd.jupyter.widget-view+json": {
       "model_id": "65718315036e4e88b1374060d5f656b0",
       "version_major": 2,
       "version_minor": 0
      },
      "text/plain": [
       "interactive(children=(Dropdown(description='video:', options=('failure0.mp4', 'failure1.mp4', 'failure2.mp4', …"
      ]
     },
     "metadata": {},
     "output_type": "display_data"
    }
   ],
   "source": [
    "video_loader = FileLoader(\n",
    "    search_path=[\n",
    "        dict(name=\"video\", regex=\"*.mp4\"),\n",
    "    ], \n",
    "    base_path=path_loader.fullpath,\n",
    ")"
   ]
  },
  {
   "cell_type": "code",
   "execution_count": 33,
   "id": "divine-flashing",
   "metadata": {},
   "outputs": [
    {
     "name": "stdout",
     "output_type": "stream",
     "text": [
      "../data/local/2021.02.11/null/zeroshot_3/aux=none,eps_steps=10000000.0,log_interval_steps=200000.0,mod_compression=linear,mod_function=sigmoid,model=sfgen,n_steps=50000000.0,num_dists=0,replay_size=500000,room_size=6,task_file=test_cool_slice_01.yaml/run_0/failure4.mp4\n"
     ]
    },
    {
     "data": {
      "text/html": [
       "<video src=\"../data/local/2021.02.11/null/zeroshot_3/aux=none,eps_steps=10000000.0,log_interval_steps=200000.0,mod_compression=linear,mod_function=sigmoid,model=sfgen,n_steps=50000000.0,num_dists=0,replay_size=500000,room_size=6,task_file=test_cool_slice_01.yaml/run_0/failure4.mp4\" controls  >\n",
       "      Your browser does not support the <code>video</code> element.\n",
       "    </video>"
      ],
      "text/plain": [
       "<IPython.core.display.Video object>"
      ]
     },
     "execution_count": 33,
     "metadata": {},
     "output_type": "execute_result"
    }
   ],
   "source": [
    "print(video_loader.fullpath)\n",
    "Video(video_loader.fullpath)"
   ]
  },
  {
   "cell_type": "code",
   "execution_count": null,
   "id": "collected-event",
   "metadata": {},
   "outputs": [],
   "source": []
  }
 ],
 "metadata": {
  "kernelspec": {
   "display_name": "Python 3",
   "language": "python",
   "name": "python3"
  },
  "language_info": {
   "codemirror_mode": {
    "name": "ipython",
    "version": 3
   },
   "file_extension": ".py",
   "mimetype": "text/x-python",
   "name": "python",
   "nbconvert_exporter": "python",
   "pygments_lexer": "ipython3",
   "version": "3.7.9"
  }
 },
 "nbformat": 4,
 "nbformat_minor": 5
}
